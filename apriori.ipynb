{
 "cells": [
  {
   "cell_type": "code",
   "execution_count": 2,
   "id": "48c1cdf0",
   "metadata": {},
   "outputs": [
    {
     "name": "stdout",
     "output_type": "stream",
     "text": [
      "Frequent 1-itemsets: {'Butter', 'Milk', 'Bread'}\n",
      "Frequent 2-itemsets: [('Butter', 'Bread'), ('Milk', 'Bread')]\n"
     ]
    }
   ],
   "source": [
    "# Minimum support\n",
    "min_support = 0.6  # 60%\n",
    "\n",
    "# Step 1: Count support for single items\n",
    "from collections import Counter\n",
    "\n",
    "transactions = [\n",
    "    ['Milk', 'Bread', 'Butter'],\n",
    "    ['Bread', 'Butter'],\n",
    "    ['Milk', 'Bread'],\n",
    "    ['Milk', 'Bread', 'Butter'],\n",
    "    ['Bread', 'Butter']\n",
    "]\n",
    "\n",
    "item_counts = Counter()\n",
    "for transaction in transactions:\n",
    "    for item in transaction:\n",
    "        item_counts[item] += 1\n",
    "\n",
    "# Step 2: Keep items with support >= min_support\n",
    "num_trans = len(transactions)\n",
    "freq_items = {item for item, count in item_counts.items() if count/num_trans >= min_support}\n",
    "print(\"Frequent 1-itemsets:\", freq_items)\n",
    "\n",
    "# Step 3: Generate candidate 2-itemsets\n",
    "from itertools import combinations\n",
    "\n",
    "c2 = combinations(freq_items, 2)\n",
    "\n",
    "# Step 4: Count support for 2-itemsets\n",
    "freq_2_itemsets = []\n",
    "for comb in c2:\n",
    "    count = sum(1 for transaction in transactions if set(comb).issubset(set(transaction)))\n",
    "    if count/num_trans >= min_support:\n",
    "        freq_2_itemsets.append(comb)\n",
    "\n",
    "print(\"Frequent 2-itemsets:\", freq_2_itemsets)"
   ]
  },
  {
   "cell_type": "code",
   "execution_count": null,
   "id": "317a51e6",
   "metadata": {},
   "outputs": [],
   "source": []
  }
 ],
 "metadata": {
  "kernelspec": {
   "display_name": "Python 3",
   "language": "python",
   "name": "python3"
  },
  "language_info": {
   "codemirror_mode": {
    "name": "ipython",
    "version": 3
   },
   "file_extension": ".py",
   "mimetype": "text/x-python",
   "name": "python",
   "nbconvert_exporter": "python",
   "pygments_lexer": "ipython3",
   "version": "3.11.4"
  }
 },
 "nbformat": 4,
 "nbformat_minor": 5
}
